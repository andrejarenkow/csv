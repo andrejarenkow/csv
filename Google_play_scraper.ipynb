{
  "nbformat": 4,
  "nbformat_minor": 0,
  "metadata": {
    "colab": {
      "name": "Google play scraper",
      "provenance": [],
      "authorship_tag": "ABX9TyP35POwNcl45XUxP4jNqVRb",
      "include_colab_link": true
    },
    "kernelspec": {
      "name": "python3",
      "display_name": "Python 3"
    },
    "language_info": {
      "name": "python"
    }
  },
  "cells": [
    {
      "cell_type": "markdown",
      "metadata": {
        "id": "view-in-github",
        "colab_type": "text"
      },
      "source": [
        "<a href=\"https://colab.research.google.com/github/decao88/csv/blob/master/Google_play_scraper.ipynb\" target=\"_parent\"><img src=\"https://colab.research.google.com/assets/colab-badge.svg\" alt=\"Open In Colab\"/></a>"
      ]
    },
    {
      "cell_type": "markdown",
      "metadata": {
        "id": "ooZggEcMpwIj"
      },
      "source": [
        "# Instalando bibliotecas"
      ]
    },
    {
      "cell_type": "code",
      "metadata": {
        "colab": {
          "base_uri": "https://localhost:8080/"
        },
        "id": "aqZDcvuKSVVl",
        "outputId": "7eb238af-78f5-466c-c9bc-272dbe9d7536"
      },
      "source": [
        "!pip install google_play_scraper"
      ],
      "execution_count": null,
      "outputs": [
        {
          "output_type": "stream",
          "text": [
            "Collecting google_play_scraper\n",
            "  Downloading google-play-scraper-1.0.0.tar.gz (52 kB)\n",
            "\u001b[?25l\r\u001b[K     |██████▎                         | 10 kB 24.6 MB/s eta 0:00:01\r\u001b[K     |████████████▋                   | 20 kB 9.6 MB/s eta 0:00:01\r\u001b[K     |███████████████████             | 30 kB 7.8 MB/s eta 0:00:01\r\u001b[K     |█████████████████████████▏      | 40 kB 7.4 MB/s eta 0:00:01\r\u001b[K     |███████████████████████████████▌| 51 kB 4.1 MB/s eta 0:00:01\r\u001b[K     |████████████████████████████████| 52 kB 616 kB/s \n",
            "\u001b[?25hBuilding wheels for collected packages: google-play-scraper\n",
            "  Building wheel for google-play-scraper (setup.py) ... \u001b[?25l\u001b[?25hdone\n",
            "  Created wheel for google-play-scraper: filename=google_play_scraper-1.0.0-py3-none-any.whl size=24086 sha256=0198e7819521e4df5c9ffba35f2e2b889071e52204c2f80d9d26f83bd16ab03f\n",
            "  Stored in directory: /root/.cache/pip/wheels/25/83/7b/2f340774a412770db567bdd52ba169685b18337c98c582ce5c\n",
            "Successfully built google-play-scraper\n",
            "Installing collected packages: google-play-scraper\n",
            "Successfully installed google-play-scraper-1.0.0\n"
          ],
          "name": "stdout"
        }
      ]
    },
    {
      "cell_type": "code",
      "metadata": {
        "colab": {
          "base_uri": "https://localhost:8080/"
        },
        "id": "1A5ExSdOloLX",
        "outputId": "5cb51d88-fde2-4eac-f080-097efb5fd30f"
      },
      "source": [
        "pip install app_store_scraper"
      ],
      "execution_count": null,
      "outputs": [
        {
          "output_type": "stream",
          "text": [
            "Collecting app_store_scraper\n",
            "  Downloading app_store_scraper-0.3.5-py3-none-any.whl (8.3 kB)\n",
            "Requirement already satisfied: requests==2.23.0 in /usr/local/lib/python3.7/dist-packages (from app_store_scraper) (2.23.0)\n",
            "Requirement already satisfied: urllib3!=1.25.0,!=1.25.1,<1.26,>=1.21.1 in /usr/local/lib/python3.7/dist-packages (from requests==2.23.0->app_store_scraper) (1.24.3)\n",
            "Requirement already satisfied: chardet<4,>=3.0.2 in /usr/local/lib/python3.7/dist-packages (from requests==2.23.0->app_store_scraper) (3.0.4)\n",
            "Requirement already satisfied: idna<3,>=2.5 in /usr/local/lib/python3.7/dist-packages (from requests==2.23.0->app_store_scraper) (2.10)\n",
            "Requirement already satisfied: certifi>=2017.4.17 in /usr/local/lib/python3.7/dist-packages (from requests==2.23.0->app_store_scraper) (2021.5.30)\n",
            "Installing collected packages: app-store-scraper\n",
            "Successfully installed app-store-scraper-0.3.5\n"
          ],
          "name": "stdout"
        }
      ]
    },
    {
      "cell_type": "code",
      "metadata": {
        "id": "CXwGrx8QTD3Q"
      },
      "source": [
        "import pandas as pd\n",
        "import numpy as np\n",
        "import json\n",
        "from app_store_scraper import AppStore\n",
        "from google_play_scraper import Sort, reviews_all"
      ],
      "execution_count": null,
      "outputs": []
    },
    {
      "cell_type": "markdown",
      "metadata": {
        "id": "yvAN_p_YlikQ"
      },
      "source": [
        "# Google Playstore"
      ]
    },
    {
      "cell_type": "code",
      "metadata": {
        "colab": {
          "base_uri": "https://localhost:8080/",
          "height": 204
        },
        "id": "3BY7YIOusACs",
        "outputId": "8d390f87-419f-4f88-e163-3b46862ed6f7"
      },
      "source": [
        "linguas = pd.read_csv('https://raw.githubusercontent.com/decao88/csv/master/linguas-googleplaystore.csv', sep=';')\n",
        "linguas.head()"
      ],
      "execution_count": null,
      "outputs": [
        {
          "output_type": "execute_result",
          "data": {
            "text/html": [
              "<div>\n",
              "<style scoped>\n",
              "    .dataframe tbody tr th:only-of-type {\n",
              "        vertical-align: middle;\n",
              "    }\n",
              "\n",
              "    .dataframe tbody tr th {\n",
              "        vertical-align: top;\n",
              "    }\n",
              "\n",
              "    .dataframe thead th {\n",
              "        text-align: right;\n",
              "    }\n",
              "</style>\n",
              "<table border=\"1\" class=\"dataframe\">\n",
              "  <thead>\n",
              "    <tr style=\"text-align: right;\">\n",
              "      <th></th>\n",
              "      <th>Name</th>\n",
              "      <th>Code</th>\n",
              "    </tr>\n",
              "  </thead>\n",
              "  <tbody>\n",
              "    <tr>\n",
              "      <th>0</th>\n",
              "      <td>Amharic</td>\n",
              "      <td>am</td>\n",
              "    </tr>\n",
              "    <tr>\n",
              "      <th>1</th>\n",
              "      <td>Arabic</td>\n",
              "      <td>ar</td>\n",
              "    </tr>\n",
              "    <tr>\n",
              "      <th>2</th>\n",
              "      <td>Basque</td>\n",
              "      <td>eu</td>\n",
              "    </tr>\n",
              "    <tr>\n",
              "      <th>3</th>\n",
              "      <td>Bengali</td>\n",
              "      <td>bn</td>\n",
              "    </tr>\n",
              "    <tr>\n",
              "      <th>4</th>\n",
              "      <td>English (UK)</td>\n",
              "      <td>en-GB</td>\n",
              "    </tr>\n",
              "  </tbody>\n",
              "</table>\n",
              "</div>"
            ],
            "text/plain": [
              "           Name   Code\n",
              "0       Amharic     am\n",
              "1        Arabic     ar\n",
              "2        Basque     eu\n",
              "3       Bengali     bn\n",
              "4  English (UK)  en-GB"
            ]
          },
          "metadata": {
            "tags": []
          },
          "execution_count": 53
        }
      ]
    },
    {
      "cell_type": "code",
      "metadata": {
        "colab": {
          "base_uri": "https://localhost:8080/",
          "height": 997
        },
        "id": "YRDHCJa7SS-x",
        "outputId": "25987459-df7b-4f98-e49f-c2d79c883de2"
      },
      "source": [
        "reviews_poliglota = pd.DataFrame()\n",
        "\n",
        "for i,j in zip(linguas['Code'], linguas['Name']):\n",
        "\n",
        "  result = reviews_all(\n",
        "      'com.actual.mobidic',\n",
        "      sleep_milliseconds=100, # defaults to 0\n",
        "      lang=i, # defaults to 'en'\n",
        "      #country='us', # defaults to 'us'\n",
        "      sort=Sort.MOST_RELEVANT, # defaults to Sort.MOST_RELEVANT\n",
        "      filter_score_with=None # defaults to None(means all score)\n",
        "  )\n",
        "  if len(result) != 0:\n",
        "    reviews = pd.DataFrame.from_dict(result)\n",
        "    reviews = reviews.sort_values('at', ascending=False)\n",
        "    reviews = reviews[['userName','at', 'content',  'score', 'thumbsUpCount','reviewCreatedVersion',]].reset_index(drop=True)\n",
        "    reviews['lingua'] = j\n",
        "    reviews_poliglota = pd.concat([reviews_poliglota, reviews])\n",
        "    print(j + '-' + str(len(result)))\n",
        "\n",
        "reviews_poliglota = reviews_poliglota.drop_duplicates(subset=['content'])\n",
        "reviews_poliglota = reviews_poliglota.reset_index(drop=True)\n",
        "reviews_poliglota.to_excel('reviews_googleplaystore.xlsx', index=False)\n",
        "reviews_poliglota"
      ],
      "execution_count": null,
      "outputs": [
        {
          "output_type": "stream",
          "text": [
            "Arabic-21\n",
            "English (UK)-507\n",
            "Portuguese (Brazil)-803\n",
            "Bulgarian-1\n",
            "Cherokee-507\n",
            "Croatian-1\n",
            "Czech-1\n",
            "Dutch-4\n",
            "English (US)-507\n",
            "Filipino-1\n",
            "French-52\n",
            "German-20\n",
            "Greek-5\n",
            "Hebrew-1\n",
            "Hungarian-2\n",
            "Indonesian-660\n",
            "Italian-36\n",
            "Japanese-1\n",
            "Korean-1\n",
            "Malay-25\n",
            "Norwegian-1\n",
            "Polish-8\n",
            "Portuguese (Portugal)-803\n",
            "Russian-45\n",
            "Serbian-1\n",
            "Chinese (PRC)-4\n",
            "Slovak-1\n",
            "Spanish-273\n",
            "Thai-80\n",
            "Chinese (Taiwan)-2\n",
            "Turkish-14\n",
            "Ukrainian-2\n",
            "Vietnamese-15\n",
            "Welsh-39\n"
          ],
          "name": "stdout"
        },
        {
          "output_type": "execute_result",
          "data": {
            "text/html": [
              "<div>\n",
              "<style scoped>\n",
              "    .dataframe tbody tr th:only-of-type {\n",
              "        vertical-align: middle;\n",
              "    }\n",
              "\n",
              "    .dataframe tbody tr th {\n",
              "        vertical-align: top;\n",
              "    }\n",
              "\n",
              "    .dataframe thead th {\n",
              "        text-align: right;\n",
              "    }\n",
              "</style>\n",
              "<table border=\"1\" class=\"dataframe\">\n",
              "  <thead>\n",
              "    <tr style=\"text-align: right;\">\n",
              "      <th></th>\n",
              "      <th>userName</th>\n",
              "      <th>at</th>\n",
              "      <th>content</th>\n",
              "      <th>score</th>\n",
              "      <th>thumbsUpCount</th>\n",
              "      <th>reviewCreatedVersion</th>\n",
              "      <th>lingua</th>\n",
              "    </tr>\n",
              "  </thead>\n",
              "  <tbody>\n",
              "    <tr>\n",
              "      <th>0</th>\n",
              "      <td>Salah linsari</td>\n",
              "      <td>2021-06-13 09:18:06</td>\n",
              "      <td>رائع جدا يستحق المتابعه و عشر آلاف نجمة</td>\n",
              "      <td>5</td>\n",
              "      <td>2</td>\n",
              "      <td>None</td>\n",
              "      <td>Arabic</td>\n",
              "    </tr>\n",
              "    <tr>\n",
              "      <th>1</th>\n",
              "      <td>أميرة أبي</td>\n",
              "      <td>2021-05-09 02:15:19</td>\n",
              "      <td>فضيع</td>\n",
              "      <td>5</td>\n",
              "      <td>1</td>\n",
              "      <td>None</td>\n",
              "      <td>Arabic</td>\n",
              "    </tr>\n",
              "    <tr>\n",
              "      <th>2</th>\n",
              "      <td>رنيم لايك شيرك</td>\n",
              "      <td>2021-03-30 06:24:12</td>\n",
              "      <td>فوق الروعههههههههههههههههههههه</td>\n",
              "      <td>5</td>\n",
              "      <td>2</td>\n",
              "      <td>None</td>\n",
              "      <td>Arabic</td>\n",
              "    </tr>\n",
              "    <tr>\n",
              "      <th>3</th>\n",
              "      <td>WAFA ORLE</td>\n",
              "      <td>2021-03-19 10:39:33</td>\n",
              "      <td>❤❤❤❤❤❤👍👍👍👍</td>\n",
              "      <td>5</td>\n",
              "      <td>1</td>\n",
              "      <td>None</td>\n",
              "      <td>Arabic</td>\n",
              "    </tr>\n",
              "    <tr>\n",
              "      <th>4</th>\n",
              "      <td>Sali Mahdi</td>\n",
              "      <td>2021-02-03 13:46:06</td>\n",
              "      <td>هههههههههه190000000000000000</td>\n",
              "      <td>5</td>\n",
              "      <td>1</td>\n",
              "      <td>None</td>\n",
              "      <td>Arabic</td>\n",
              "    </tr>\n",
              "    <tr>\n",
              "      <th>...</th>\n",
              "      <td>...</td>\n",
              "      <td>...</td>\n",
              "      <td>...</td>\n",
              "      <td>...</td>\n",
              "      <td>...</td>\n",
              "      <td>...</td>\n",
              "      <td>...</td>\n",
              "    </tr>\n",
              "    <tr>\n",
              "      <th>2127</th>\n",
              "      <td>Phùng Quang Khánh</td>\n",
              "      <td>2019-10-29 12:34:07</td>\n",
              "      <td>Ok good 👍</td>\n",
              "      <td>5</td>\n",
              "      <td>1</td>\n",
              "      <td>None</td>\n",
              "      <td>Vietnamese</td>\n",
              "    </tr>\n",
              "    <tr>\n",
              "      <th>2128</th>\n",
              "      <td>Trường Lê</td>\n",
              "      <td>2019-06-22 03:49:07</td>\n",
              "      <td>Ứng dụng quá ok cho các bạn muốn học guitar, v...</td>\n",
              "      <td>5</td>\n",
              "      <td>34</td>\n",
              "      <td>2.0</td>\n",
              "      <td>Vietnamese</td>\n",
              "    </tr>\n",
              "    <tr>\n",
              "      <th>2129</th>\n",
              "      <td>NaThan Acoustic</td>\n",
              "      <td>2019-05-23 07:52:25</td>\n",
              "      <td>rất ôkê</td>\n",
              "      <td>5</td>\n",
              "      <td>2</td>\n",
              "      <td>None</td>\n",
              "      <td>Vietnamese</td>\n",
              "    </tr>\n",
              "    <tr>\n",
              "      <th>2130</th>\n",
              "      <td>Ben Nguyen Phuoc</td>\n",
              "      <td>2018-02-01 07:23:08</td>\n",
              "      <td>To.o.ọe.e.e.t.t.t.t.t..vời!!!</td>\n",
              "      <td>5</td>\n",
              "      <td>7</td>\n",
              "      <td>None</td>\n",
              "      <td>Vietnamese</td>\n",
              "    </tr>\n",
              "    <tr>\n",
              "      <th>2131</th>\n",
              "      <td>Người dùng Google</td>\n",
              "      <td>2017-10-19 08:29:17</td>\n",
              "      <td>Csc the hop am hay.</td>\n",
              "      <td>5</td>\n",
              "      <td>19</td>\n",
              "      <td>1.1</td>\n",
              "      <td>Vietnamese</td>\n",
              "    </tr>\n",
              "  </tbody>\n",
              "</table>\n",
              "<p>2132 rows × 7 columns</p>\n",
              "</div>"
            ],
            "text/plain": [
              "               userName                  at  ... reviewCreatedVersion      lingua\n",
              "0         Salah linsari 2021-06-13 09:18:06  ...                 None      Arabic\n",
              "1             أميرة أبي 2021-05-09 02:15:19  ...                 None      Arabic\n",
              "2        رنيم لايك شيرك 2021-03-30 06:24:12  ...                 None      Arabic\n",
              "3             WAFA ORLE 2021-03-19 10:39:33  ...                 None      Arabic\n",
              "4            Sali Mahdi 2021-02-03 13:46:06  ...                 None      Arabic\n",
              "...                 ...                 ...  ...                  ...         ...\n",
              "2127  Phùng Quang Khánh 2019-10-29 12:34:07  ...                 None  Vietnamese\n",
              "2128          Trường Lê 2019-06-22 03:49:07  ...                  2.0  Vietnamese\n",
              "2129    NaThan Acoustic 2019-05-23 07:52:25  ...                 None  Vietnamese\n",
              "2130   Ben Nguyen Phuoc 2018-02-01 07:23:08  ...                 None  Vietnamese\n",
              "2131  Người dùng Google 2017-10-19 08:29:17  ...                  1.1  Vietnamese\n",
              "\n",
              "[2132 rows x 7 columns]"
            ]
          },
          "metadata": {
            "tags": []
          },
          "execution_count": 71
        }
      ]
    },
    {
      "cell_type": "markdown",
      "metadata": {
        "id": "h5yNjb1clld3"
      },
      "source": [
        "# Apple Appstore"
      ]
    },
    {
      "cell_type": "code",
      "metadata": {
        "id": "zz9HcA5UUK3S",
        "colab": {
          "base_uri": "https://localhost:8080/",
          "height": 405
        },
        "outputId": "87dce72d-ac98-4121-a451-df893005135a"
      },
      "source": [
        "aplicativo = AppStore(country=\"us\", app_name=\"mobidic-guitar-chords\")\n",
        "aplicativo.review(how_many=1500)\n",
        "df = pd.DataFrame(np.array(aplicativo.reviews),columns=['review'])\n",
        "df2 = df.join(pd.DataFrame(df.pop('review').tolist()))\n",
        "df2"
      ],
      "execution_count": null,
      "outputs": [
        {
          "output_type": "stream",
          "text": [
            "2021-07-28 14:56:59,308 [INFO] Base - Searching for app id\n",
            "2021-07-28 14:56:59,750 [INFO] Base - Initialised: AppStore('us', 'mobidic-guitar-chords', 903621828)\n",
            "2021-07-28 14:56:59,752 [INFO] Base - Ready to fetch reviews from: https://apps.apple.com/us/app/mobidic-guitar-chords/id903621828\n",
            "2021-07-28 14:56:59,822 [INFO] Base - [id:903621828] Fetched 6 reviews (6 fetched in total)\n"
          ],
          "name": "stderr"
        },
        {
          "output_type": "execute_result",
          "data": {
            "text/html": [
              "<div>\n",
              "<style scoped>\n",
              "    .dataframe tbody tr th:only-of-type {\n",
              "        vertical-align: middle;\n",
              "    }\n",
              "\n",
              "    .dataframe tbody tr th {\n",
              "        vertical-align: top;\n",
              "    }\n",
              "\n",
              "    .dataframe thead th {\n",
              "        text-align: right;\n",
              "    }\n",
              "</style>\n",
              "<table border=\"1\" class=\"dataframe\">\n",
              "  <thead>\n",
              "    <tr style=\"text-align: right;\">\n",
              "      <th></th>\n",
              "      <th>review</th>\n",
              "      <th>isEdited</th>\n",
              "      <th>date</th>\n",
              "      <th>rating</th>\n",
              "      <th>userName</th>\n",
              "      <th>title</th>\n",
              "      <th>developerResponse</th>\n",
              "    </tr>\n",
              "  </thead>\n",
              "  <tbody>\n",
              "    <tr>\n",
              "      <th>0</th>\n",
              "      <td>I love the huge amount of chords but I do wish...</td>\n",
              "      <td>False</td>\n",
              "      <td>2021-05-30 20:00:34</td>\n",
              "      <td>4</td>\n",
              "      <td>Louderthangod</td>\n",
              "      <td>Diatonic chords would be great</td>\n",
              "      <td>NaN</td>\n",
              "    </tr>\n",
              "    <tr>\n",
              "      <th>1</th>\n",
              "      <td>O app não toca o som no IPhone X :/</td>\n",
              "      <td>False</td>\n",
              "      <td>2020-04-23 06:08:41</td>\n",
              "      <td>4</td>\n",
              "      <td>JCRangel</td>\n",
              "      <td>Sem som</td>\n",
              "      <td>{'id': 14863094, 'body': 'Olá JCRangel, desati...</td>\n",
              "    </tr>\n",
              "    <tr>\n",
              "      <th>2</th>\n",
              "      <td>Wish I could leave me phone in silent mode as ...</td>\n",
              "      <td>False</td>\n",
              "      <td>2019-03-03 00:20:14</td>\n",
              "      <td>5</td>\n",
              "      <td>ovrdrvn</td>\n",
              "      <td>Love it and....</td>\n",
              "      <td>NaN</td>\n",
              "    </tr>\n",
              "    <tr>\n",
              "      <th>3</th>\n",
              "      <td>I just started using this and I have to say it...</td>\n",
              "      <td>False</td>\n",
              "      <td>2015-07-17 19:33:07</td>\n",
              "      <td>5</td>\n",
              "      <td>Murdock Scott</td>\n",
              "      <td>Nice!</td>\n",
              "      <td>NaN</td>\n",
              "    </tr>\n",
              "    <tr>\n",
              "      <th>4</th>\n",
              "      <td>Not just another chord app. It's nice when an ...</td>\n",
              "      <td>False</td>\n",
              "      <td>2014-09-28 18:57:09</td>\n",
              "      <td>5</td>\n",
              "      <td>Owl</td>\n",
              "      <td>Amazing</td>\n",
              "      <td>NaN</td>\n",
              "    </tr>\n",
              "    <tr>\n",
              "      <th>5</th>\n",
              "      <td>Sem som no iPhone 7, iOS 14.4. Phone não está ...</td>\n",
              "      <td>False</td>\n",
              "      <td>2021-02-11 19:43:03</td>\n",
              "      <td>3</td>\n",
              "      <td>LuizLSouza</td>\n",
              "      <td>Sem som</td>\n",
              "      <td>{'id': 21685859, 'body': 'Olá Luiz, o mute é o...</td>\n",
              "    </tr>\n",
              "  </tbody>\n",
              "</table>\n",
              "</div>"
            ],
            "text/plain": [
              "                                              review  ...                                  developerResponse\n",
              "0  I love the huge amount of chords but I do wish...  ...                                                NaN\n",
              "1                O app não toca o som no IPhone X :/  ...  {'id': 14863094, 'body': 'Olá JCRangel, desati...\n",
              "2  Wish I could leave me phone in silent mode as ...  ...                                                NaN\n",
              "3  I just started using this and I have to say it...  ...                                                NaN\n",
              "4  Not just another chord app. It's nice when an ...  ...                                                NaN\n",
              "5  Sem som no iPhone 7, iOS 14.4. Phone não está ...  ...  {'id': 21685859, 'body': 'Olá Luiz, o mute é o...\n",
              "\n",
              "[6 rows x 7 columns]"
            ]
          },
          "metadata": {
            "tags": []
          },
          "execution_count": 26
        }
      ]
    },
    {
      "cell_type": "code",
      "metadata": {
        "id": "EbbjW_LYnTwJ"
      },
      "source": [
        ""
      ],
      "execution_count": null,
      "outputs": []
    },
    {
      "cell_type": "code",
      "metadata": {
        "id": "XffA6TgDr4la"
      },
      "source": [
        ""
      ],
      "execution_count": null,
      "outputs": []
    }
  ]
}